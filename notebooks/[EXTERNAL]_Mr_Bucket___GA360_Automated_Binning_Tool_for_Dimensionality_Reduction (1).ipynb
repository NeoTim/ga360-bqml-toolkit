{
 "cells": [
  {
   "cell_type": "code",
   "execution_count": null,
   "metadata": {
    "colab": {},
    "colab_type": "code",
    "id": "mWJaNSEv0v0Z"
   },
   "outputs": [],
   "source": [
    "# Copyright 2020 Google LLC\n",
    "#\n",
    "# Licensed under the Apache License, Version 2.0 (the \"License\");\n",
    "# you may not use this file except in compliance with the License.\n",
    "# You may obtain a copy of the License at\n",
    "#\n",
    "#     https://www.apache.org/licenses/LICENSE-2.0\n",
    "#\n",
    "# Unless required by applicable law or agreed to in writing, software\n",
    "# distributed under the License is distributed on an \"AS IS\" BASIS,\n",
    "# WITHOUT WARRANTIES OR CONDITIONS OF ANY KIND, either express or implied.\n",
    "# See the License for the specific language governing permissions and\n",
    "# limitations under the License."
   ]
  },
  {
   "cell_type": "markdown",
   "metadata": {
    "colab_type": "text",
    "id": "iUY2qA_f1jae"
   },
   "source": [
    "# Overview\n",
    "This Notebook aims to automate the analysis and SQL coding needed when creating an input data set for a propensity model. More specifically, it's designed for Binning and Dimensionality Reduction of Categorical Variables from the Google Analytics Big Query Export. \n",
    "\n",
    "The notebook will allow the user to pass standard and custom dimensions from Google Analytics Big Query Export into a function that will return a summary table of top values in each dimension as well as SQL code to be used when creating a propensity model's input dataset.\n",
    "\n",
    "## Dataset\n",
    "This notebook is designed to work with categorical variables, both standard and cusotom dimensions, from the Google Analytics Big Query Export\n",
    "\n",
    "## Objective\n",
    "The goal of the notebook is to speed up creation of the input dataset by automating summary tables and sql code for each categorical variable in the Google Analytics Big Query Export. \n",
    "\n",
    "This allows the user to quickly determine which value within each categorical variable should and shouln't be included in the input data set then easily port (copy/paste) the corresponding SQL code into thier SQL enviroment for creation of the input dataset.\n",
    "\n",
    "## Cost\n",
    "This tutorial uses billable components of Google Cloud Platform (GCP):\n",
    "\n",
    "- Cloud AI Platform\n",
    "- Cloud Storage\n",
    "Learn about Cloud AI Platform pricing and Cloud Storage pricing, and use the Pricing Calculator to generate a cost estimate based on your projected usage.\n",
    "\n",
    "\n"
   ]
  },
  {
   "cell_type": "markdown",
   "metadata": {
    "colab_type": "text",
    "id": "ze4-nDLfK4pw"
   },
   "source": [
    "### Set up your local development environment\n",
    "\n",
    "**If you are using Colab or AI Platform Notebooks**, your environment already meets\n",
    "all the requirements to run this notebook. You can skip this step."
   ]
  },
  {
   "cell_type": "markdown",
   "metadata": {
    "colab_type": "text",
    "id": "gCuSR8GkAgzl"
   },
   "source": [
    "**Otherwise**, make sure your environment meets this notebook's requirements.\n",
    "You need the following:\n",
    "\n",
    "* The Google Cloud SDK\n",
    "* Git\n",
    "* Python 3\n",
    "* virtualenv\n",
    "* Jupyter notebook running in a virtual environment with Python 3\n",
    "\n",
    "The Google Cloud guide to [Setting up a Python development\n",
    "environment](https://cloud.google.com/python/setup) and the [Jupyter\n",
    "installation guide](https://jupyter.org/install) provide detailed instructions\n",
    "for meeting these requirements. The following steps provide a condensed set of\n",
    "instructions:\n",
    "\n",
    "1. [Install and initialize the Cloud SDK.](https://cloud.google.com/sdk/docs/)\n",
    "\n",
    "2. [Install Python 3.](https://cloud.google.com/python/setup#installing_python)\n",
    "\n",
    "3. [Install\n",
    "   virtualenv](https://cloud.google.com/python/setup#installing_and_using_virtualenv)\n",
    "   and create a virtual environment that uses Python 3.\n",
    "\n",
    "4. Activate that environment and run `pip install jupyter` in a shell to install\n",
    "   Jupyter.\n",
    "\n",
    "5. Run `jupyter notebook` in a shell to launch Jupyter.\n",
    "\n",
    "6. Open this notebook in the Jupyter Notebook Dashboard."
   ]
  },
  {
   "cell_type": "markdown",
   "metadata": {
    "colab_type": "text",
    "id": "BF1j6f9HApxa"
   },
   "source": [
    "### Set up your GCP project\n",
    "\n",
    "**The following steps are required, regardless of your notebook environment.**\n",
    "\n",
    "1. [Select or create a GCP project.](https://console.cloud.google.com/cloud-resource-manager). When you first create an account, you get a $300 free credit towards your compute/storage costs.\n",
    "\n",
    "2. [Make sure that billing is enabled for your project.](https://cloud.google.com/billing/docs/how-to/modify-project)\n",
    "\n",
    "3. [Enable the AI Platform APIs and Compute Engine APIs.](https://console.cloud.google.com/flows/enableapi?apiid=ml.googleapis.com,compute_component)\n",
    "\n",
    "4. Enter your project ID in the cell below. Then run the  cell to make sure the\n",
    "Cloud SDK uses the right project for all the commands in this notebook.\n",
    "\n",
    "**Note**: Jupyter runs lines prefixed with `!` as shell commands, and it interpolates Python variables prefixed with `$` into these commands."
   ]
  },
  {
   "cell_type": "code",
   "execution_count": null,
   "metadata": {
    "colab": {
     "base_uri": "https://localhost:8080/",
     "height": 34
    },
    "colab_type": "code",
    "id": "oM1iC_MfAts1",
    "outputId": "2e581e7b-ee25-4f0e-b5b5-2fb3debd5467"
   },
   "outputs": [],
   "source": [
    "PROJECT_ID = \"mattmatesbigquery\" #@param {type:\"string\"}\n",
    "! gcloud config set project $PROJECT_ID"
   ]
  },
  {
   "cell_type": "markdown",
   "metadata": {
    "colab_type": "text",
    "id": "dr--iN2kAylZ"
   },
   "source": [
    "### Authenticate your GCP account\n",
    "\n",
    "**If you are using AI Platform Notebooks**, your environment is already\n",
    "authenticated. Skip this step."
   ]
  },
  {
   "cell_type": "markdown",
   "metadata": {
    "colab_type": "text",
    "id": "sBCra4QMA2wR"
   },
   "source": [
    "**If you are using Colab**, run the cell below and follow the instructions\n",
    "when prompted to authenticate your account via oAuth.\n",
    "\n",
    "**Otherwise**, follow these steps:\n",
    "\n",
    "1. In the GCP Console, go to the [**Create service account key**\n",
    "   page](https://console.cloud.google.com/apis/credentials/serviceaccountkey).\n",
    "\n",
    "2. From the **Service account** drop-down list, select **New service account**.\n",
    "\n",
    "3. In the **Service account name** field, enter a name.\n",
    "\n",
    "4. From the **Role** drop-down list, select\n",
    "   **Machine Learning Engine > AI Platform Admin** and\n",
    "   **Cloud Storage > Storage Object Admin**.\n",
    "\n",
    "5. Click *Create*. A JSON file that contains your key downloads to your\n",
    "local environment.\n",
    "\n",
    "6. Enter the path to your service account key as the\n",
    "`GOOGLE_APPLICATION_CREDENTIALS` variable in the cell below and run the cell."
   ]
  },
  {
   "cell_type": "code",
   "execution_count": null,
   "metadata": {
    "colab": {},
    "colab_type": "code",
    "id": "PyQmSRbKA8r-"
   },
   "outputs": [],
   "source": [
    "import sys\n",
    "\n",
    "# If you are running this notebook in Colab, run this cell and follow the\n",
    "# instructions to authenticate your GCP account. This provides access to your\n",
    "# Cloud Storage bucket and lets you submit training jobs and prediction\n",
    "# requests.\n",
    "\n",
    "if 'google.colab' in sys.modules:\n",
    "  from google.colab import auth as google_auth\n",
    "  google_auth.authenticate_user()\n",
    "\n",
    "# If you are running this notebook locally, replace the string below with the\n",
    "# path to your service account key and run this cell to authenticate your GCP\n",
    "# account.\n",
    "else:\n",
    "  %env GOOGLE_APPLICATION_CREDENTIALS ''"
   ]
  },
  {
   "cell_type": "markdown",
   "metadata": {
    "colab_type": "text",
    "id": "4WzZZYkCrCIh"
   },
   "source": [
    "## Imports & Inputs"
   ]
  },
  {
   "cell_type": "code",
   "execution_count": null,
   "metadata": {
    "colab": {
     "base_uri": "https://localhost:8080/",
     "height": 170
    },
    "colab_type": "code",
    "id": "qWoIeqtNrOAd",
    "outputId": "730f0a6e-7b89-4c6c-f8af-6ed23354fc89"
   },
   "outputs": [],
   "source": [
    "# Install sidetable because it is not pre-installed colab library\n",
    "!pip install sidetable==0.6.0"
   ]
  },
  {
   "cell_type": "markdown",
   "metadata": {
    "colab_type": "text",
    "id": "uzVm3pDFmmqU"
   },
   "source": [
    "sidetable documentation: https://pbpython.com/sidetable.html"
   ]
  },
  {
   "cell_type": "code",
   "execution_count": null,
   "metadata": {
    "colab": {},
    "colab_type": "code",
    "id": "MaXy5u4yrEI5"
   },
   "outputs": [],
   "source": [
    "# Python Library Imports\n",
    "from __future__ import absolute_import\n",
    "from __future__ import division\n",
    "from __future__ import print_function\n",
    "\n",
    "import pandas as pd\n",
    "import re\n",
    "import sidetable"
   ]
  },
  {
   "cell_type": "markdown",
   "metadata": {
    "colab_type": "text",
    "id": "DjQOhuV8boor"
   },
   "source": [
    "**Set Dataset Paramaters Below**"
   ]
  },
  {
   "cell_type": "code",
   "execution_count": null,
   "metadata": {
    "colab": {},
    "colab_type": "code",
    "id": "xsnL3zU1tFBd"
   },
   "outputs": [],
   "source": [
    "#@title Dataset Parameters\n",
    "# Google Analytics Big Query Export Paramaters\n",
    "project_id_billing = \"mattmatesbigquery\" #@param {type:\"string\"}\n",
    "dataset_id = \"bigquery-public-data.google_analytics_sample\" #@param {type:\"string\"}\n",
    "table_id = \"ga_sessions_*\" #@param {type:\"string\"}\n",
    "start_date = \"20170801\" #@param {type:\"string\"}\n",
    "end_date = \"20170801\" #@param {type:\"string\"}\n",
    "country = \"United States\" #@param {type:\"string\"}\n",
    "\n"
   ]
  },
  {
   "cell_type": "markdown",
   "metadata": {
    "colab_type": "text",
    "id": "1vTJidIkahFG"
   },
   "source": [
    "**Set Default Summary Table Paramaters Below**\n",
    "This will set default values for the function. You can always specify different values within the function's arguments"
   ]
  },
  {
   "cell_type": "code",
   "execution_count": null,
   "metadata": {
    "colab": {},
    "colab_type": "code",
    "id": "v4IIFu8jRcKm"
   },
   "outputs": [],
   "source": [
    "#@title Summary Table Paramaters\n",
    "#@markdown **Threshold**: Unique values that contribute to the top X%. Eliminates long-tail results\n",
    "threshold = 95 #@param {type:\"slider\", min: 0, max: 100, step:5}\n",
    "#@markdown **Max Rows**: Maximum number of rows to display. Helps when there are many results that fall under the threshold\n",
    "max_rows = 10 #@param {type:\"integer\"}\n",
    "#@markdown **Metric**: Calculations will be done based on Vists or Unique Users\n",
    "metric = 'visits' #@param [\"visits\", \"user_cnt\"]"
   ]
  },
  {
   "cell_type": "markdown",
   "metadata": {
    "colab_type": "text",
    "id": "ZwQ4Xq9iss5n"
   },
   "source": [
    "## Stanard Dimension Function"
   ]
  },
  {
   "cell_type": "markdown",
   "metadata": {
    "colab_type": "text",
    "id": "RXs4BtYRcXok"
   },
   "source": [
    "Run the below cell to create the Feature Buckets function for standard dimensions"
   ]
  },
  {
   "cell_type": "code",
   "execution_count": null,
   "metadata": {
    "colab": {},
    "colab_type": "code",
    "id": "AUKLPGOCFu_3"
   },
   "outputs": [],
   "source": [
    "def featureBuckets(dimension_list, threshold=threshold, max_rows=max_rows):\n",
    "\n",
    "  for field in dimension_list:\n",
    "    try:\n",
    "      # Run SQL based on paramaters\n",
    "      sql = f\"\"\"\n",
    "            SELECT\n",
    "              '{field}' as dimension,\n",
    "              {field} as value,\n",
    "              count(distinct clientId) as user_cnt,\n",
    "              count(distinct concat(fullVisitorId, visitId)) as visits\n",
    "            FROM `{dataset_id}.{table_id}` AS visits\n",
    "              ,UNNEST(visits.hits) as hits\n",
    "            WHERE \n",
    "              _TABLE_SUFFIX BETWEEN '{start_date}' AND '{end_date}'\n",
    "              AND geoNetwork.Country = '{country}'\n",
    "            GROUP BY 1, 2\n",
    "            \"\"\"\n",
    "      \n",
    "      # Create Frequnecy Distribution DataFrame based on threshold and metric\n",
    "      df = pd.read_gbq(sql, project_id=project_id_billing, dialect='standard') # Create DataFrame from SQL statement\n",
    "      df = df.stb.freq(['value'], value=metric, thresh=threshold) # Use SideTable to create frequncy distribtion\n",
    "      df['dimension'] = field # Add columns specifying dimension\n",
    "      display(df[['dimension','value', 'visits', 'percent', 'cumulative_visits', 'cumulative_percent']][:max_rows])\n",
    "      print(\"\")\n",
    "\n",
    "      # Create SQL statement for Binary Variables of top values based from each dimension based on threshold and max_rows\n",
    "      i = 1\n",
    "      for index, row in df[:-1].iterrows():\n",
    "        print(\"Max(CASE WHEN \",row['dimension'],\"='\",row['value'],\"' THEN 1 ELSE 0 END) AS \",\\\n",
    "              re.sub('[\\\\\\\\/:*?\" <>|._()&,-]','',row['dimension']),'_',\\\n",
    "              re.sub('[\\\\\\\\/:*?\" <>|._()&,-]','',row['value']),\",\",sep=\"\")\n",
    "        if i == max_rows:\n",
    "          break\n",
    "        i += 1\n",
    "      print(\"\")\n",
    "    \n",
    "    except:\n",
    "      print('Could not run', field)"
   ]
  },
  {
   "cell_type": "code",
   "execution_count": null,
   "metadata": {
    "colab": {
     "base_uri": "https://localhost:8080/",
     "height": 210
    },
    "colab_type": "code",
    "id": "FVK5UAb51AXa",
    "outputId": "4a8a12f6-e143-4d31-9e9d-09dd6b955c4e"
   },
   "outputs": [],
   "source": [
    "# Example of Output\n",
    "featureBuckets(['device.browser'])"
   ]
  },
  {
   "cell_type": "markdown",
   "metadata": {
    "colab_type": "text",
    "id": "I6na1sQrLBVD"
   },
   "source": [
    "### Run Function"
   ]
  },
  {
   "cell_type": "markdown",
   "metadata": {
    "colab_type": "text",
    "id": "Gv9w7h8Qczir"
   },
   "source": [
    "- Pass lists of dimensions into the function to get summary tables and SQL code that you can copy/paste directly into your input data SQL code\n",
    "\n",
    "- Note: in each function you can also pass arguments for `max_rows` and `threshold`, so you don't have the always use the default paramaters set at the beginning of this notebook \n",
    "\n",
    "- Included already are standard dimensions for device, traffic source, page, geo, and ecommerce."
   ]
  },
  {
   "cell_type": "markdown",
   "metadata": {
    "colab_type": "text",
    "id": "kHbHBSpTgi8V"
   },
   "source": [
    "#### Device"
   ]
  },
  {
   "cell_type": "code",
   "execution_count": null,
   "metadata": {
    "colab": {},
    "colab_type": "code",
    "id": "Ikap18jO2qeJ"
   },
   "outputs": [],
   "source": [
    "device = [\n",
    "          'device.browser',\n",
    "          'device.browserSize',\n",
    "          'device.browserVersion',\n",
    "          'device.deviceCategory',\n",
    "          'device.mobileDeviceInfo',\n",
    "          'device.mobileDeviceMarketingName',\n",
    "          'device.mobileDeviceModel',\n",
    "          'device.mobileInputSelector',\n",
    "          'device.operatingSystem',\n",
    "          'device.operatingSystemVersion',\n",
    "          'device.mobileDeviceBranding',\n",
    "          'device.flashVersion',\n",
    "          'device.javaEnabled',\n",
    "          'device.language',\n",
    "          'device.screenColors',\n",
    "          'device.screenResolution'\n",
    "          ]"
   ]
  },
  {
   "cell_type": "code",
   "execution_count": null,
   "metadata": {
    "colab": {
     "base_uri": "https://localhost:8080/",
     "height": 1000
    },
    "colab_type": "code",
    "id": "kssBxa1wFzKV",
    "outputId": "a84827d1-25ef-413d-a716-403a2e7f43d4"
   },
   "outputs": [],
   "source": [
    "featureBuckets(device, threshold=95)"
   ]
  },
  {
   "cell_type": "markdown",
   "metadata": {
    "colab_type": "text",
    "id": "pSpYqY4Xgm9v"
   },
   "source": [
    "#### Traffic Source"
   ]
  },
  {
   "cell_type": "code",
   "execution_count": null,
   "metadata": {
    "colab": {},
    "colab_type": "code",
    "id": "DB81N02P_j9X"
   },
   "outputs": [],
   "source": [
    "traffic_source = [\n",
    "                  'trafficSource.adContent',\n",
    "                  'trafficSource.campaign',\n",
    "                  'trafficSource.campaignCode',\n",
    "                  'trafficSource.isTrueDirect',\n",
    "                  'trafficSource.keyword',\n",
    "                  'trafficSource.medium',\n",
    "                  'trafficSource.referralPath',\n",
    "                  'trafficSource.source',\n",
    "                  'channelGrouping'\n",
    "                  ]"
   ]
  },
  {
   "cell_type": "code",
   "execution_count": null,
   "metadata": {
    "colab": {
     "base_uri": "https://localhost:8080/",
     "height": 1000
    },
    "colab_type": "code",
    "id": "41hHZHidMEY3",
    "outputId": "4d0423f9-6516-4be7-af6c-1703f864c317"
   },
   "outputs": [],
   "source": [
    "featureBuckets(traffic_source, threshold=.90)"
   ]
  },
  {
   "cell_type": "markdown",
   "metadata": {
    "colab_type": "text",
    "id": "uYyyvPxYgrtL"
   },
   "source": [
    "#### Geo\n"
   ]
  },
  {
   "cell_type": "code",
   "execution_count": null,
   "metadata": {
    "colab": {},
    "colab_type": "code",
    "id": "tQPwLvX5_joL"
   },
   "outputs": [],
   "source": [
    "geo = [\n",
    "      'geoNetwork.subContinent',\n",
    "      'geoNetwork.country',\n",
    "      'geoNetwork.region',\n",
    "      'geoNetwork.metro'\n",
    "      'geoNetwork.city'\n",
    "       ]"
   ]
  },
  {
   "cell_type": "code",
   "execution_count": null,
   "metadata": {
    "colab": {
     "base_uri": "https://localhost:8080/",
     "height": 1000
    },
    "colab_type": "code",
    "id": "e7u__zMMME8O",
    "outputId": "506d0296-ba71-4329-ef9b-322b1b20a5dc"
   },
   "outputs": [],
   "source": [
    "featureBuckets(geo, threshold=.90, max_rows=100)"
   ]
  },
  {
   "cell_type": "markdown",
   "metadata": {
    "colab_type": "text",
    "id": "vxfJs_f3gzEL"
   },
   "source": [
    "#### Page"
   ]
  },
  {
   "cell_type": "code",
   "execution_count": null,
   "metadata": {
    "colab": {},
    "colab_type": "code",
    "id": "gu_YXqYQ_jbE"
   },
   "outputs": [],
   "source": [
    "page = [\n",
    "        'hits.page.pagePath',\n",
    "        'hits.page.pagePathLevel1',\n",
    "        'hits.page.pagePathLevel2',\n",
    "        'hits.page.pagePathLevel3',\n",
    "        'hits.page.pagePathLevel4',\n",
    "        'hits.page.hostname',\n",
    "        'hits.page.pageTitle',\n",
    "        'hits.page.searchKeyword'\n",
    "        ]"
   ]
  },
  {
   "cell_type": "code",
   "execution_count": null,
   "metadata": {
    "colab": {
     "base_uri": "https://localhost:8080/",
     "height": 1000
    },
    "colab_type": "code",
    "id": "39VLq81ZMFfm",
    "outputId": "4bd2b679-81a0-4b45-b41f-a42879ed7807"
   },
   "outputs": [],
   "source": [
    "featureBuckets(page, threshold=.80)"
   ]
  },
  {
   "cell_type": "markdown",
   "metadata": {
    "colab_type": "text",
    "id": "MYzS0Huyg2hb"
   },
   "source": [
    "#### Ecommerce"
   ]
  },
  {
   "cell_type": "code",
   "execution_count": null,
   "metadata": {
    "colab": {},
    "colab_type": "code",
    "id": "cTLvrPrO_jN6"
   },
   "outputs": [],
   "source": [
    "ecomm = [\n",
    "         'eCommerceAction.action_type',\t\n",
    "         'eCommerceAction.step',\t\n",
    "         'eCommerceAction.option'\n",
    "         ]"
   ]
  },
  {
   "cell_type": "code",
   "execution_count": null,
   "metadata": {
    "colab": {
     "base_uri": "https://localhost:8080/",
     "height": 438
    },
    "colab_type": "code",
    "id": "-dyutTUu_jAX",
    "outputId": "c852d024-4f71-4239-e7c8-63a54376b610"
   },
   "outputs": [],
   "source": [
    "featureBuckets(ecomm, threshold=.90)"
   ]
  },
  {
   "cell_type": "markdown",
   "metadata": {
    "colab_type": "text",
    "id": "mj8KjGiQSEz6"
   },
   "source": [
    "## Custom Dimension Function"
   ]
  },
  {
   "cell_type": "markdown",
   "metadata": {
    "colab_type": "text",
    "id": "7Z2QMLK8dl9U"
   },
   "source": [
    "If you do not know your Custom Dimension Index values, run the below cell to return a list of Custom Dimensions Indexes used in your dataset"
   ]
  },
  {
   "cell_type": "code",
   "execution_count": null,
   "metadata": {
    "colab": {
     "base_uri": "https://localhost:8080/",
     "height": 34
    },
    "colab_type": "code",
    "id": "4U5LERONTZg1",
    "outputId": "32780b0e-0f4f-4ede-ff99-5885219b5a1e"
   },
   "outputs": [],
   "source": [
    "# Return all custome dimension indexes in list of values to pass to function\n",
    "sql = f\"\"\"\n",
    "      SELECT\n",
    "        customDimensions.index\n",
    "      FROM \n",
    "        `amplified-land-735.129843378.ga_sessions_*` AS visits\n",
    "        ,UNNEST(visits.hits) as hits\n",
    "        ,UNNEST(hits.customDimensions) as customDimensions\n",
    "      WHERE \n",
    "        _TABLE_SUFFIX BETWEEN '20190501' AND '20200430'\n",
    "        AND geoNetwork.Country=\"United States\"\n",
    "      GROUP BY 1\n",
    "      ORDER BY 1 ASC\n",
    "      \"\"\"\n",
    "\n",
    "customDimension_list = list(pd.read_gbq(sql, project_id=project_id_billing, dialect='standard')['index'])\n",
    "print(customDimension_list)"
   ]
  },
  {
   "cell_type": "markdown",
   "metadata": {
    "colab_type": "text",
    "id": "WTedG4gbdhQl"
   },
   "source": [
    "Run the below cell to create the Feature Buckets function for custom dimensions"
   ]
  },
  {
   "cell_type": "code",
   "execution_count": null,
   "metadata": {
    "colab": {},
    "colab_type": "code",
    "id": "_esfaLSR_in6"
   },
   "outputs": [],
   "source": [
    "def CDfeatureBuckets(customDimension_list, threshold=threshold, max_rows=max_rows):\n",
    "\n",
    "  for field in list(customDimension_list):\n",
    "    try:\n",
    "      # Run SQL based on paramaters\n",
    "      sql = f\"\"\"\n",
    "            SELECT\n",
    "              '{field}' as dimension,\n",
    "              customDimensions.value as value,\n",
    "              count(distinct clientId) as user_cnt,\n",
    "              count(distinct concat(fullVisitorId, visitId)) as visits\n",
    "            FROM `{dataset_id}.{table_id}` AS visits\n",
    "              ,UNNEST(visits.hits) as hits\n",
    "              ,UNNEST(hits.customDimensions) as customDimensions\n",
    "            WHERE \n",
    "              _TABLE_SUFFIX BETWEEN '{start_date}' AND '{end_date}'\n",
    "              AND geoNetwork.Country = '{country}'\n",
    "              AND customDimensions.index = {field}\n",
    "            GROUP BY 1, 2\n",
    "            \"\"\"\n",
    "      \n",
    "      # Create Frequnecy Distribution DataFrame based on threshold\n",
    "      df = pd.read_gbq(sql, project_id=project_id_billing, dialect='standard') # Create DataFrame from SQL statement\n",
    "      df = df.stb.freq(['value'], value=metric, thresh=threshold) # Use SideTable to create frequncy distribtion\n",
    "      df['dimension'] = field # Add columns specifying dimension\n",
    "      display(df[['dimension','value', 'visits', 'Percent', 'Cumulative visits', 'Cumulative Percent']][:max_rows])\n",
    "      print(\"\")\n",
    "\n",
    "      # Create SQL statement for Binary Variables of top values based from each dimension based on threshold and max_rows\n",
    "      i = 1\n",
    "      for index, row in df[:-1].iterrows():\n",
    "        print(\"Max(CASE WHEN customDimensions.index = \",row['dimension'],\" AND customDimensions.value = '\",row['value'],\"' THEN 1 ELSE 0 END) AS cd\",\\\n",
    "              row['dimension'],'_',\\\n",
    "              re.sub('[\\\\\\\\/:*?\" <>|._()&,-]','',row['value']),\",\",sep=\"\")\n",
    "        if i == max_rows:\n",
    "          break\n",
    "        i += 1\n",
    "      print(\"\")\n",
    "    \n",
    "    except:\n",
    "      print('Could not run', field)"
   ]
  },
  {
   "cell_type": "markdown",
   "metadata": {
    "colab_type": "text",
    "id": "NsWsE2iKb1xT"
   },
   "source": [
    "### Run Function"
   ]
  },
  {
   "cell_type": "markdown",
   "metadata": {
    "colab_type": "text",
    "id": "A3-yCRzf0HKE"
   },
   "source": [
    "- Pass lists of custom dimensions into the function to get summary tables and SQL code that you can copy/paste directly into your input data SQL code. You can use the `customDimension_list` created above or pass your own list of values\n",
    "\n",
    "- Note: in each function you can also pass arguments for `max_rows` and `threshold`, so you don't have the always use the default paramaters set at the beginning of this notebook "
   ]
  },
  {
   "cell_type": "code",
   "execution_count": null,
   "metadata": {
    "colab": {
     "base_uri": "https://localhost:8080/",
     "height": 1000
    },
    "colab_type": "code",
    "id": "8Q0rb69E_iaV",
    "outputId": "82f24311-e919-4b14-f0f8-c9204d5d4a8b"
   },
   "outputs": [],
   "source": [
    "CDfeatureBuckets(customDimension_list)"
   ]
  },
  {
   "cell_type": "code",
   "execution_count": null,
   "metadata": {
    "colab": {},
    "colab_type": "code",
    "id": "ZIeGyop3XMm-"
   },
   "outputs": [],
   "source": []
  },
  {
   "cell_type": "code",
   "execution_count": null,
   "metadata": {
    "colab": {},
    "colab_type": "code",
    "id": "_JsfeeMa0rce"
   },
   "outputs": [],
   "source": []
  },
  {
   "cell_type": "code",
   "execution_count": null,
   "metadata": {
    "colab": {
     "base_uri": "https://localhost:8080/",
     "height": 258
    },
    "colab_type": "code",
    "id": "8mD7HyKA0zJS",
    "outputId": "15be20ff-d5fd-4fab-d6ec-f8dec26d7650"
   },
   "outputs": [],
   "source": [
    "featureBuckets(['device.browser'])"
   ]
  },
  {
   "cell_type": "code",
   "execution_count": null,
   "metadata": {
    "colab": {},
    "colab_type": "code",
    "id": "5q5G5skX2ySp"
   },
   "outputs": [],
   "source": []
  },
  {
   "cell_type": "code",
   "execution_count": null,
   "metadata": {
    "colab": {},
    "colab_type": "code",
    "id": "DmeSzsij2yGi"
   },
   "outputs": [],
   "source": []
  },
  {
   "cell_type": "code",
   "execution_count": null,
   "metadata": {
    "colab": {},
    "colab_type": "code",
    "id": "wejG_xUK2x5x"
   },
   "outputs": [],
   "source": []
  },
  {
   "cell_type": "code",
   "execution_count": null,
   "metadata": {
    "colab": {},
    "colab_type": "code",
    "id": "Wm0lNR4k02Kz"
   },
   "outputs": [],
   "source": [
    "# format_dic = {'visits':'{0:,.0f}','Percent':'{:.2%}',\t'Cumulative visits':'{0:,.0f}',\t'Cumulative Percent':'{:.2%}'}"
   ]
  }
 ],
 "metadata": {
  "colab": {
   "collapsed_sections": [],
   "name": "[EXTERNAL] Mr. Bucket | GA360 Automated Binning Tool for Dimensionality Reduction",
   "provenance": [],
   "toc_visible": true
  },
  "kernelspec": {
   "display_name": "Python 3",
   "language": "python",
   "name": "python3"
  },
  "language_info": {
   "codemirror_mode": {
    "name": "ipython",
    "version": 3
   },
   "file_extension": ".py",
   "mimetype": "text/x-python",
   "name": "python",
   "nbconvert_exporter": "python",
   "pygments_lexer": "ipython3",
   "version": "3.7.4"
  }
 },
 "nbformat": 4,
 "nbformat_minor": 1
}
